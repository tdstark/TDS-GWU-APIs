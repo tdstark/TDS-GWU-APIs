{
 "cells": [
  {
   "cell_type": "code",
   "execution_count": 55,
   "metadata": {},
   "outputs": [
    {
     "name": "stdout",
     "output_type": "stream",
     "text": [
      "218\n"
     ]
    }
   ],
   "source": [
    "# Dependencies\n",
    "import requests\n",
    "import json\n",
    "import pandas\n",
    "\n",
    "datalist = {}\n",
    "\n",
    "api_format = \"json\"\n",
    "\n",
    "url = \"http://api.worldbank.org/v2/\"\n",
    "\n",
    "#create initial list of types\n",
    "types_response = requests.get(f\"{url}lendingtypes?format={api_format}\").json()\n",
    "for results in types_response[1]:\n",
    "    datalist[results['id']] = []\n",
    "\n",
    "#get the max pages for pagination\n",
    "countries_response = requests.get(f\"{url}countries?format={api_format}\").json()\n",
    "maxpages = countries_response[0]['pages']    \n",
    "\n",
    "#loop through each response on each page, ignoring blanks\n",
    "for num in range(1,maxpages):\n",
    "    countries_response = requests.get(f\"{url}countries?format={api_format}&page={num}\").json()\n",
    "    for countries in countries_response[1]:\n",
    "        try:\n",
    "            datalist[countries['lendingType']['id']].append(countries['name'])\n",
    "        except KeyError:\n",
    "            continue\n",
    "        \n",
    "print(len(datalist['IBD']) + len(datalist['IDB']) + len(datalist['IDX']) +len(datalist['LNX']))"
   ]
  },
  {
   "cell_type": "code",
   "execution_count": 29,
   "metadata": {},
   "outputs": [],
   "source": [
    "# Get the list of lending types the world bank has"
   ]
  },
  {
   "cell_type": "code",
   "execution_count": null,
   "metadata": {},
   "outputs": [],
   "source": [
    "# Next, determine how many countries fall into each lending type.\n",
    "# Hint: Look at the first element of the response array."
   ]
  },
  {
   "cell_type": "code",
   "execution_count": null,
   "metadata": {},
   "outputs": [],
   "source": [
    "# Print the number of countries of each lending type"
   ]
  }
 ],
 "metadata": {
  "kernelspec": {
   "display_name": "Python 3",
   "language": "python",
   "name": "python3"
  },
  "language_info": {
   "codemirror_mode": {
    "name": "ipython",
    "version": 3
   },
   "file_extension": ".py",
   "mimetype": "text/x-python",
   "name": "python",
   "nbconvert_exporter": "python",
   "pygments_lexer": "ipython3",
   "version": "3.7.6"
  },
  "varInspector": {
   "cols": {
    "lenName": 16,
    "lenType": 16,
    "lenVar": 40
   },
   "kernels_config": {
    "python": {
     "delete_cmd_postfix": "",
     "delete_cmd_prefix": "del ",
     "library": "var_list.py",
     "varRefreshCmd": "print(var_dic_list())"
    },
    "r": {
     "delete_cmd_postfix": ") ",
     "delete_cmd_prefix": "rm(",
     "library": "var_list.r",
     "varRefreshCmd": "cat(var_dic_list()) "
    }
   },
   "types_to_exclude": [
    "module",
    "function",
    "builtin_function_or_method",
    "instance",
    "_Feature"
   ],
   "window_display": false
  }
 },
 "nbformat": 4,
 "nbformat_minor": 4
}
